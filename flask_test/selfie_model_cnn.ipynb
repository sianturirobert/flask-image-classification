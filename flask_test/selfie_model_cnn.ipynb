{
 "cells": [
  {
   "cell_type": "code",
   "execution_count": 1,
   "metadata": {
    "collapsed": true
   },
   "outputs": [],
   "source": [
    "from PIL import Image\n",
    "import numpy as np\n",
    "import os\n",
    "from random import shuffle\n",
    "import matplotlib.pyplot as plt"
   ]
  },
  {
   "cell_type": "code",
   "execution_count": 2,
   "metadata": {
    "collapsed": true
   },
   "outputs": [],
   "source": [
    "train_ktp = \"selfie_ktp/train_selfie\"\n",
    "test_ktp = \"selfie_ktp/test_selfie\""
   ]
  },
  {
   "cell_type": "code",
   "execution_count": 3,
   "metadata": {
    "collapsed": true
   },
   "outputs": [],
   "source": [
    "# def get_size_statistics():\n",
    "#     heights = []\n",
    "#     widths = []\n",
    "#     img_count = 0\n",
    "#     for img in os.listdir(train_ktp):\n",
    "#         path = os.path.join(train_ktp, img)\n",
    "#         if \"DS_Store\" not in path:\n",
    "#             data = np.array(Image.open(path))\n",
    "#             heights.append(data.shape[0])\n",
    "#             widths.append(data.shape[1])\n",
    "#             img_count += 1\n",
    "#     avg_height = sum(heights) / len(heights)\n",
    "#     avg_width = sum(widths) / len(widths)\n",
    "#     print(\"Average Height: \" + str(avg_height))\n",
    "#     print(\"Max Height: \" + str(max(heights)))\n",
    "#     print(\"Min Height: \" + str(min(heights)))\n",
    "#     print('\\n')\n",
    "#     print(\"Average Width: \" + str(avg_width))\n",
    "#     print(\"Max Width: \" + str(max(widths)))\n",
    "#     print(\"Min Width: \" + str(min(widths)))\n",
    "\n",
    "# get_size_statistics()"
   ]
  },
  {
   "cell_type": "code",
   "execution_count": 4,
   "metadata": {
    "collapsed": true
   },
   "outputs": [],
   "source": [
    "def label_img(name):\n",
    "    word_label = name.split('-')[0]\n",
    "    if word_label == 'fix_selfie': return np.array([1, 0, 0])\n",
    "    elif word_label == 'not_selfie' : return np.array([0, 1, 0])\n",
    "    elif word_label == 'blured_selfie' : return np.array([0, 0, 1])"
   ]
  },
  {
   "cell_type": "code",
   "execution_count": 5,
   "metadata": {
    "collapsed": true
   },
   "outputs": [],
   "source": [
    "IMG_SIZE = 256\n",
    "\n",
    "def load_training_data():\n",
    "    train_data = []\n",
    "    for img in os.listdir(train_ktp):\n",
    "        label = label_img(img)\n",
    "        path = os.path.join(train_ktp, img)\n",
    "        if \"DS_Store\" not in path:\n",
    "            img = Image.open(path)\n",
    "            img = img.convert('L')\n",
    "            img = img.resize((IMG_SIZE, IMG_SIZE), Image.ANTIALIAS)\n",
    "            train_data.append([np.array(img), label])\n",
    "            \n",
    "    shuffle(train_data)\n",
    "    return train_data"
   ]
  },
  {
   "cell_type": "code",
   "execution_count": 6,
   "metadata": {},
   "outputs": [
    {
     "data": {
      "text/plain": [
       "<matplotlib.image.AxesImage at 0x7f10b1b09d30>"
      ]
     },
     "execution_count": 6,
     "metadata": {},
     "output_type": "execute_result"
    }
   ],
   "source": [
    "train_data = load_training_data()\n",
    "plt.imshow(train_data[43][0], cmap = 'gist_gray')"
   ]
  },
  {
   "cell_type": "code",
   "execution_count": 7,
   "metadata": {
    "collapsed": true
   },
   "outputs": [],
   "source": [
    "trainImages = np.array([i[0] for i in train_data]).reshape(-1, IMG_SIZE, IMG_SIZE, 1)\n",
    "trainLabels = np.array([i[1] for i in train_data])"
   ]
  },
  {
   "cell_type": "code",
   "execution_count": 8,
   "metadata": {},
   "outputs": [
    {
     "name": "stderr",
     "output_type": "stream",
     "text": [
      "Using TensorFlow backend.\n"
     ]
    }
   ],
   "source": [
    "import keras\n",
    "from keras.models import Sequential\n",
    "from keras.layers import Dense, Dropout, Flatten\n",
    "from keras.layers import Conv2D, MaxPooling2D\n",
    "from keras.layers. normalization import BatchNormalization\n",
    "import numpy as np"
   ]
  },
  {
   "cell_type": "code",
   "execution_count": 9,
   "metadata": {},
   "outputs": [
    {
     "name": "stdout",
     "output_type": "stream",
     "text": [
      "WARNING:tensorflow:From /root/anaconda3/envs/tf-gpu/lib/python3.5/site-packages/tensorflow/python/framework/op_def_library.py:263: colocate_with (from tensorflow.python.framework.ops) is deprecated and will be removed in a future version.\n",
      "Instructions for updating:\n",
      "Colocations handled automatically by placer.\n",
      "WARNING:tensorflow:From /root/anaconda3/envs/tf-gpu/lib/python3.5/site-packages/keras/backend/tensorflow_backend.py:3445: calling dropout (from tensorflow.python.ops.nn_ops) with keep_prob is deprecated and will be removed in a future version.\n",
      "Instructions for updating:\n",
      "Please use `rate` instead of `keep_prob`. Rate should be set to `rate = 1 - keep_prob`.\n"
     ]
    }
   ],
   "source": [
    "model = Sequential()\n",
    "model.add(Conv2D(32, kernel_size = (3, 3), activation='relu', input_shape=(IMG_SIZE, IMG_SIZE, 1)))\n",
    "model.add(MaxPooling2D(pool_size=(2,2)))\n",
    "model.add(BatchNormalization())\n",
    "model.add(Conv2D(64, kernel_size=(3,3), activation='relu'))\n",
    "model.add(MaxPooling2D(pool_size=(2,2)))\n",
    "model.add(BatchNormalization())\n",
    "model.add(Conv2D(96, kernel_size=(3,3), activation='relu'))\n",
    "model.add(MaxPooling2D(pool_size=(2,2)))\n",
    "model.add(BatchNormalization())\n",
    "model.add(Conv2D(96, kernel_size=(3,3), activation='relu'))\n",
    "model.add(MaxPooling2D(pool_size=(2,2)))\n",
    "model.add(BatchNormalization())\n",
    "model.add(Conv2D(64, kernel_size=(3,3), activation='relu'))\n",
    "model.add(MaxPooling2D(pool_size=(2,2)))\n",
    "model.add(BatchNormalization())\n",
    "model.add(Dropout(0.2))\n",
    "model.add(Flatten())\n",
    "model.add(Dense(256, activation='relu'))\n",
    "model.add(Dropout(0.2))\n",
    "model.add(Dense(128, activation='relu'))\n",
    "#model.add(Dropout(0.3))\n",
    "model.add(Dense(3, activation = 'softmax'))"
   ]
  },
  {
   "cell_type": "code",
   "execution_count": 12,
   "metadata": {
    "collapsed": true
   },
   "outputs": [],
   "source": [
    "model.compile(loss='binary_crossentropy', optimizer='adam', metrics = ['accuracy'])"
   ]
  },
  {
   "cell_type": "code",
   "execution_count": 13,
   "metadata": {},
   "outputs": [
    {
     "name": "stdout",
     "output_type": "stream",
     "text": [
      "Epoch 1/50\n",
      "4017/4017 [==============================] - 325s 81ms/step - loss: 0.4074 - acc: 0.8144\n",
      "Epoch 2/50\n",
      "4017/4017 [==============================] - 322s 80ms/step - loss: 0.3090 - acc: 0.8658\n",
      "Epoch 3/50\n",
      "4017/4017 [==============================] - 322s 80ms/step - loss: 0.2297 - acc: 0.9043\n",
      "Epoch 4/50\n",
      "4017/4017 [==============================] - 322s 80ms/step - loss: 0.1883 - acc: 0.9266\n",
      "Epoch 5/50\n",
      "4017/4017 [==============================] - 325s 81ms/step - loss: 0.1573 - acc: 0.9381\n",
      "Epoch 6/50\n",
      "4017/4017 [==============================] - 326s 81ms/step - loss: 0.1231 - acc: 0.9523\n",
      "Epoch 7/50\n",
      "4017/4017 [==============================] - 323s 81ms/step - loss: 0.0943 - acc: 0.9670\n",
      "Epoch 8/50\n",
      "4017/4017 [==============================] - 325s 81ms/step - loss: 0.0750 - acc: 0.9725\n",
      "Epoch 9/50\n",
      "4017/4017 [==============================] - 320s 80ms/step - loss: 0.0628 - acc: 0.9788\n",
      "Epoch 10/50\n",
      "4017/4017 [==============================] - 325s 81ms/step - loss: 0.0519 - acc: 0.9818\n",
      "Epoch 11/50\n",
      "4017/4017 [==============================] - 324s 81ms/step - loss: 0.0369 - acc: 0.9869\n",
      "Epoch 12/50\n",
      "4017/4017 [==============================] - 322s 80ms/step - loss: 0.0525 - acc: 0.9798\n",
      "Epoch 13/50\n",
      "4017/4017 [==============================] - 322s 80ms/step - loss: 0.0544 - acc: 0.9815\n",
      "Epoch 14/50\n",
      "4017/4017 [==============================] - 323s 80ms/step - loss: 0.0328 - acc: 0.9887\n",
      "Epoch 15/50\n",
      "4017/4017 [==============================] - 323s 80ms/step - loss: 0.0203 - acc: 0.9934\n",
      "Epoch 16/50\n",
      "4017/4017 [==============================] - 323s 80ms/step - loss: 0.0282 - acc: 0.9904\n",
      "Epoch 17/50\n",
      "4017/4017 [==============================] - 322s 80ms/step - loss: 0.0341 - acc: 0.9891\n",
      "Epoch 18/50\n",
      "4017/4017 [==============================] - 323s 80ms/step - loss: 0.0421 - acc: 0.9849\n",
      "Epoch 19/50\n",
      "4017/4017 [==============================] - 322s 80ms/step - loss: 0.0300 - acc: 0.9899\n",
      "Epoch 20/50\n",
      "4017/4017 [==============================] - 324s 81ms/step - loss: 0.0143 - acc: 0.9944\n",
      "Epoch 21/50\n",
      "4017/4017 [==============================] - 235s 59ms/step - loss: 0.0139 - acc: 0.9949\n",
      "Epoch 22/50\n",
      "4017/4017 [==============================] - 221s 55ms/step - loss: 0.0240 - acc: 0.9924\n",
      "Epoch 23/50\n",
      "4017/4017 [==============================] - 282s 70ms/step - loss: 0.0226 - acc: 0.9920\n",
      "Epoch 24/50\n",
      "4017/4017 [==============================] - 325s 81ms/step - loss: 0.0166 - acc: 0.9933\n",
      "Epoch 25/50\n",
      "4017/4017 [==============================] - 326s 81ms/step - loss: 0.0206 - acc: 0.9925\n",
      "Epoch 26/50\n",
      "4017/4017 [==============================] - 320s 80ms/step - loss: 0.0343 - acc: 0.9887\n",
      "Epoch 27/50\n",
      "4017/4017 [==============================] - 323s 80ms/step - loss: 0.0184 - acc: 0.9939\n",
      "Epoch 28/50\n",
      "4017/4017 [==============================] - 323s 80ms/step - loss: 0.0181 - acc: 0.9931\n",
      "Epoch 29/50\n",
      "4017/4017 [==============================] - 323s 80ms/step - loss: 0.0273 - acc: 0.9916\n",
      "Epoch 30/50\n",
      "4017/4017 [==============================] - 323s 80ms/step - loss: 0.0267 - acc: 0.9903\n",
      "Epoch 31/50\n",
      "4017/4017 [==============================] - 323s 81ms/step - loss: 0.0305 - acc: 0.9904\n",
      "Epoch 32/50\n",
      "4017/4017 [==============================] - 324s 81ms/step - loss: 0.0159 - acc: 0.9948\n",
      "Epoch 33/50\n",
      "4017/4017 [==============================] - 320s 80ms/step - loss: 0.0161 - acc: 0.9946\n",
      "Epoch 34/50\n",
      "4017/4017 [==============================] - 302s 75ms/step - loss: 0.0174 - acc: 0.9944\n",
      "Epoch 35/50\n",
      "4017/4017 [==============================] - 220s 55ms/step - loss: 0.0203 - acc: 0.9938\n",
      "Epoch 36/50\n",
      "4017/4017 [==============================] - 220s 55ms/step - loss: 0.0151 - acc: 0.9949\n",
      "Epoch 37/50\n",
      "4017/4017 [==============================] - 220s 55ms/step - loss: 0.0110 - acc: 0.9966\n",
      "Epoch 38/50\n",
      "4017/4017 [==============================] - 219s 54ms/step - loss: 0.0112 - acc: 0.9962\n",
      "Epoch 39/50\n",
      "4017/4017 [==============================] - 220s 55ms/step - loss: 0.0119 - acc: 0.9952\n",
      "Epoch 40/50\n",
      "4017/4017 [==============================] - 220s 55ms/step - loss: 0.0086 - acc: 0.9968\n",
      "Epoch 41/50\n",
      "4017/4017 [==============================] - 219s 55ms/step - loss: 0.0091 - acc: 0.9975\n",
      "Epoch 42/50\n",
      "4017/4017 [==============================] - 219s 55ms/step - loss: 0.0179 - acc: 0.9939\n",
      "Epoch 43/50\n",
      "4017/4017 [==============================] - 219s 55ms/step - loss: 0.0155 - acc: 0.9938\n",
      "Epoch 44/50\n",
      "4017/4017 [==============================] - 220s 55ms/step - loss: 0.0165 - acc: 0.9941\n",
      "Epoch 45/50\n",
      "4017/4017 [==============================] - 221s 55ms/step - loss: 0.0100 - acc: 0.9976\n",
      "Epoch 46/50\n",
      "4017/4017 [==============================] - 219s 55ms/step - loss: 0.0139 - acc: 0.9949\n",
      "Epoch 47/50\n",
      "4017/4017 [==============================] - 221s 55ms/step - loss: 0.0065 - acc: 0.9983\n",
      "Epoch 48/50\n",
      "4017/4017 [==============================] - 221s 55ms/step - loss: 0.0154 - acc: 0.9950\n",
      "Epoch 49/50\n",
      "4017/4017 [==============================] - 220s 55ms/step - loss: 0.0098 - acc: 0.9967\n",
      "Epoch 50/50\n",
      "4017/4017 [==============================] - 220s 55ms/step - loss: 0.0090 - acc: 0.9970\n"
     ]
    },
    {
     "data": {
      "text/plain": [
       "<keras.callbacks.History at 0x7f104c143ef0>"
      ]
     },
     "execution_count": 13,
     "metadata": {},
     "output_type": "execute_result"
    }
   ],
   "source": [
    "model.fit(trainImages, trainLabels, batch_size = 50, epochs = 50, verbose = 1)"
   ]
  },
  {
   "cell_type": "code",
   "execution_count": 14,
   "metadata": {},
   "outputs": [
    {
     "data": {
      "text/plain": [
       "<matplotlib.image.AxesImage at 0x7f0fd0ce2320>"
      ]
     },
     "execution_count": 14,
     "metadata": {},
     "output_type": "execute_result"
    }
   ],
   "source": [
    "def load_test_data():\n",
    "    test_data = []\n",
    "    for img in os.listdir(test_ktp):\n",
    "        label = label_img(img)\n",
    "        path = os.path.join(test_ktp, img)\n",
    "        if \"DS_Store\" not in path:\n",
    "            img = Image.open(path)\n",
    "            img = img.convert('L')\n",
    "            img = img.resize((IMG_SIZE, IMG_SIZE), Image.ANTIALIAS)\n",
    "            test_data.append([np.array(img), label])\n",
    "    shuffle(test_data)\n",
    "    return test_data\n",
    "\n",
    "\n",
    "test_data = load_test_data()    \n",
    "plt.imshow(test_data[10][0], cmap = 'gist_gray')"
   ]
  },
  {
   "cell_type": "code",
   "execution_count": 15,
   "metadata": {},
   "outputs": [
    {
     "name": "stdout",
     "output_type": "stream",
     "text": [
      "83.699268519\n"
     ]
    }
   ],
   "source": [
    "testImages = np.array([i[0] for i in test_data]).reshape(-1, IMG_SIZE, IMG_SIZE, 1)\n",
    "testLabels = np.array([i[1] for i in test_data])\n",
    "\n",
    "loss, acc = model.evaluate(testImages, testLabels, verbose = 0)\n",
    "print(acc * 100)"
   ]
  },
  {
   "cell_type": "code",
   "execution_count": 16,
   "metadata": {
    "collapsed": true
   },
   "outputs": [],
   "source": [
    "predictions = model.predict(testImages)"
   ]
  },
  {
   "cell_type": "code",
   "execution_count": 17,
   "metadata": {},
   "outputs": [
    {
     "data": {
      "text/plain": [
       "array([[164,  48,  38],\n",
       "       [ 58, 309,  83],\n",
       "       [ 11,   5, 286]])"
      ]
     },
     "execution_count": 17,
     "metadata": {},
     "output_type": "execute_result"
    }
   ],
   "source": [
    "from sklearn.metrics import confusion_matrix\n",
    "image_pred = (predictions > 0.8)\n",
    "confusion_matrix(testLabels.argmax(axis=1), image_pred.argmax(axis=1))"
   ]
  },
  {
   "cell_type": "code",
   "execution_count": 18,
   "metadata": {},
   "outputs": [
    {
     "name": "stdout",
     "output_type": "stream",
     "text": [
      "Saved model to disk\n"
     ]
    }
   ],
   "source": [
    "# serialize model to JSON\n",
    "model_json = model.to_json()\n",
    "with open(\"selfie_model.json\", \"w\") as json_file:\n",
    "    json_file.write(model_json)\n",
    "# serialize weights to HDF5\n",
    "model.save_weights(\"selfie_model-weights.h5\")\n",
    "print(\"Saved model to disk\")\n",
    "model.save(\"selfie_model.h5\")"
   ]
  },
  {
   "cell_type": "code",
   "execution_count": null,
   "metadata": {
    "collapsed": true
   },
   "outputs": [],
   "source": []
  }
 ],
 "metadata": {
  "anaconda-cloud": {},
  "kernelspec": {
   "display_name": "Python [conda env:tf-gpu]",
   "language": "python",
   "name": "conda-env-tf-gpu-py"
  },
  "language_info": {
   "codemirror_mode": {
    "name": "ipython",
    "version": 3
   },
   "file_extension": ".py",
   "mimetype": "text/x-python",
   "name": "python",
   "nbconvert_exporter": "python",
   "pygments_lexer": "ipython3",
   "version": "3.5.4"
  }
 },
 "nbformat": 4,
 "nbformat_minor": 1
}
