{
 "cells": [
  {
   "cell_type": "code",
   "execution_count": 1,
   "metadata": {
    "collapsed": true
   },
   "outputs": [],
   "source": [
    "from PIL import Image\n",
    "import numpy as np\n",
    "import os\n",
    "from random import shuffle\n",
    "import matplotlib.pyplot as plt"
   ]
  },
  {
   "cell_type": "code",
   "execution_count": 2,
   "metadata": {
    "collapsed": true
   },
   "outputs": [],
   "source": [
    "train_ktp = \"selfie_ktp/train_ktp\" #path train images\n",
    "test_ktp = \"selfie_ktp/test_ktp\" #path test image"
   ]
  },
  {
   "cell_type": "code",
   "execution_count": 3,
   "metadata": {
    "collapsed": true
   },
   "outputs": [],
   "source": [
    "# def get_size_statistics():\n",
    "#     heights = []\n",
    "#     widths = []\n",
    "#     img_count = 0\n",
    "#     for img in os.listdir(train_ktp):\n",
    "#         path = os.path.join(train_ktp, img)\n",
    "#         if \"DS_Store\" not in path:\n",
    "#             data = np.array(Image.open(path))\n",
    "#             heights.append(data.shape[0])\n",
    "#             widths.append(data.shape[1])\n",
    "#             img_count += 1\n",
    "#     avg_height = sum(heights) / len(heights)\n",
    "#     avg_width = sum(widths) / len(widths)\n",
    "#     print(\"Average Height: \" + str(avg_height))\n",
    "#     print(\"Max Height: \" + str(max(heights)))\n",
    "#     print(\"Min Height: \" + str(min(heights)))\n",
    "#     print('\\n')\n",
    "#     print(\"Average Width: \" + str(avg_width))\n",
    "#     print(\"Max Width: \" + str(max(widths)))\n",
    "#     print(\"Min Width: \" + str(min(widths)))\n",
    "\n",
    "# get_size_statistics()"
   ]
  },
  {
   "cell_type": "code",
   "execution_count": 4,
   "metadata": {
    "collapsed": true
   },
   "outputs": [],
   "source": [
    "def label_img(name):#labelling image\n",
    "    word_label = name.split('-')[0]\n",
    "    if word_label == 'fix_ktp': return np.array([1, 0, 0])\n",
    "    elif word_label == 'not_ktp' : return np.array([0, 1, 0])\n",
    "    elif word_label == 'blured_ktp' : return np.array([0, 0, 1])"
   ]
  },
  {
   "cell_type": "code",
   "execution_count": 5,
   "metadata": {
    "collapsed": true
   },
   "outputs": [],
   "source": [
    "IMG_SIZE = 256\n",
    "\n",
    "def load_training_data():\n",
    "    train_data = []\n",
    "    for img in os.listdir(train_ktp):\n",
    "        label = label_img(img)\n",
    "        path = os.path.join(train_ktp, img)\n",
    "        if \"DS_Store\" not in path:\n",
    "            img = Image.open(path)\n",
    "            img = img.convert('L')\n",
    "            img = img.resize((IMG_SIZE, IMG_SIZE), Image.ANTIALIAS)\n",
    "            train_data.append([np.array(img), label])\n",
    "            \n",
    "    shuffle(train_data)\n",
    "    return train_data"
   ]
  },
  {
   "cell_type": "code",
   "execution_count": 6,
   "metadata": {},
   "outputs": [
    {
     "data": {
      "text/plain": [
       "<matplotlib.image.AxesImage at 0x7fd20f7a5c88>"
      ]
     },
     "execution_count": 6,
     "metadata": {},
     "output_type": "execute_result"
    }
   ],
   "source": [
    "train_data = load_training_data()\n",
    "plt.imshow(train_data[43][0], cmap = 'gist_gray')"
   ]
  },
  {
   "cell_type": "code",
   "execution_count": 7,
   "metadata": {
    "collapsed": true
   },
   "outputs": [],
   "source": [
    "trainImages = np.array([i[0] for i in train_data]).reshape(-1, IMG_SIZE, IMG_SIZE, 1)\n",
    "trainLabels = np.array([i[1] for i in train_data])"
   ]
  },
  {
   "cell_type": "code",
   "execution_count": 8,
   "metadata": {},
   "outputs": [
    {
     "name": "stderr",
     "output_type": "stream",
     "text": [
      "Using TensorFlow backend.\n"
     ]
    }
   ],
   "source": [
    "import keras\n",
    "from keras.models import Sequential\n",
    "from keras.layers import Dense, Dropout, Flatten\n",
    "from keras.layers import Conv2D, MaxPooling2D\n",
    "from keras.layers. normalization import BatchNormalization\n",
    "import numpy as np"
   ]
  },
  {
   "cell_type": "code",
   "execution_count": 9,
   "metadata": {},
   "outputs": [
    {
     "name": "stdout",
     "output_type": "stream",
     "text": [
      "WARNING:tensorflow:From /root/anaconda3/envs/tf-gpu/lib/python3.5/site-packages/tensorflow/python/framework/op_def_library.py:263: colocate_with (from tensorflow.python.framework.ops) is deprecated and will be removed in a future version.\n",
      "Instructions for updating:\n",
      "Colocations handled automatically by placer.\n",
      "WARNING:tensorflow:From /root/anaconda3/envs/tf-gpu/lib/python3.5/site-packages/keras/backend/tensorflow_backend.py:3445: calling dropout (from tensorflow.python.ops.nn_ops) with keep_prob is deprecated and will be removed in a future version.\n",
      "Instructions for updating:\n",
      "Please use `rate` instead of `keep_prob`. Rate should be set to `rate = 1 - keep_prob`.\n"
     ]
    }
   ],
   "source": [
    "model = Sequential()\n",
    "model.add(Conv2D(32, kernel_size = (3, 3), activation='relu', input_shape=(IMG_SIZE, IMG_SIZE, 1)))\n",
    "model.add(MaxPooling2D(pool_size=(2,2)))\n",
    "model.add(BatchNormalization())\n",
    "model.add(Conv2D(64, kernel_size=(3,3), activation='relu'))\n",
    "model.add(MaxPooling2D(pool_size=(2,2)))\n",
    "model.add(BatchNormalization())\n",
    "model.add(Conv2D(96, kernel_size=(3,3), activation='relu'))\n",
    "model.add(MaxPooling2D(pool_size=(2,2)))\n",
    "model.add(BatchNormalization())\n",
    "model.add(Conv2D(96, kernel_size=(3,3), activation='relu'))\n",
    "model.add(MaxPooling2D(pool_size=(2,2)))\n",
    "model.add(BatchNormalization())\n",
    "model.add(Conv2D(64, kernel_size=(3,3), activation='relu'))\n",
    "model.add(MaxPooling2D(pool_size=(2,2)))\n",
    "model.add(BatchNormalization())\n",
    "model.add(Dropout(0.2))\n",
    "model.add(Flatten())\n",
    "model.add(Dense(256, activation='relu'))\n",
    "model.add(Dropout(0.2))\n",
    "model.add(Dense(128, activation='relu'))\n",
    "#model.add(Dropout(0.3))\n",
    "model.add(Dense(3, activation = 'softmax'))"
   ]
  },
  {
   "cell_type": "code",
   "execution_count": 10,
   "metadata": {
    "collapsed": true
   },
   "outputs": [],
   "source": [
    "model.compile(loss='binary_crossentropy', optimizer='adam', metrics = ['accuracy'])"
   ]
  },
  {
   "cell_type": "code",
   "execution_count": 17,
   "metadata": {},
   "outputs": [
    {
     "name": "stdout",
     "output_type": "stream",
     "text": [
      "Epoch 1/50\n",
      "915/915 [==============================] - 74s 81ms/step - loss: 0.0077 - acc: 0.9949\n",
      "Epoch 2/50\n",
      "915/915 [==============================] - 72s 79ms/step - loss: 0.0078 - acc: 0.9967\n",
      "Epoch 3/50\n",
      "915/915 [==============================] - 75s 82ms/step - loss: 0.0115 - acc: 0.9949\n",
      "Epoch 4/50\n",
      "915/915 [==============================] - 75s 82ms/step - loss: 0.0073 - acc: 0.9953\n",
      "Epoch 5/50\n",
      "915/915 [==============================] - 73s 80ms/step - loss: 0.0127 - acc: 0.9945\n",
      "Epoch 6/50\n",
      "915/915 [==============================] - 74s 81ms/step - loss: 0.0099 - acc: 0.9945\n",
      "Epoch 7/50\n",
      "915/915 [==============================] - 75s 82ms/step - loss: 0.0089 - acc: 0.9949\n",
      "Epoch 8/50\n",
      "915/915 [==============================] - 76s 83ms/step - loss: 0.0055 - acc: 0.9964\n",
      "Epoch 9/50\n",
      "915/915 [==============================] - 74s 81ms/step - loss: 0.0057 - acc: 0.9971\n",
      "Epoch 10/50\n",
      "915/915 [==============================] - 76s 83ms/step - loss: 0.0052 - acc: 0.9964\n",
      "Epoch 11/50\n",
      "915/915 [==============================] - 73s 80ms/step - loss: 0.0066 - acc: 0.9956\n",
      "Epoch 12/50\n",
      "915/915 [==============================] - 73s 80ms/step - loss: 0.0061 - acc: 0.9971\n",
      "Epoch 13/50\n",
      "915/915 [==============================] - 73s 80ms/step - loss: 0.0077 - acc: 0.9945\n",
      "Epoch 14/50\n",
      "915/915 [==============================] - 73s 80ms/step - loss: 0.0056 - acc: 0.9960\n",
      "Epoch 15/50\n",
      "915/915 [==============================] - 74s 81ms/step - loss: 0.0050 - acc: 0.9978\n",
      "Epoch 16/50\n",
      "915/915 [==============================] - 73s 80ms/step - loss: 0.0053 - acc: 0.9964\n",
      "Epoch 17/50\n",
      "915/915 [==============================] - 73s 80ms/step - loss: 0.0045 - acc: 0.9974\n",
      "Epoch 18/50\n",
      "915/915 [==============================] - 76s 83ms/step - loss: 0.0045 - acc: 0.9964\n",
      "Epoch 19/50\n",
      "915/915 [==============================] - 73s 80ms/step - loss: 0.0051 - acc: 0.9974\n",
      "Epoch 20/50\n",
      "915/915 [==============================] - 73s 79ms/step - loss: 0.0051 - acc: 0.9971\n",
      "Epoch 21/50\n",
      "915/915 [==============================] - 73s 80ms/step - loss: 0.0063 - acc: 0.9956\n",
      "Epoch 22/50\n",
      "915/915 [==============================] - 72s 79ms/step - loss: 0.0070 - acc: 0.9964\n",
      "Epoch 23/50\n",
      "915/915 [==============================] - 73s 80ms/step - loss: 0.0068 - acc: 0.9964\n",
      "Epoch 24/50\n",
      "915/915 [==============================] - 75s 82ms/step - loss: 0.0065 - acc: 0.9964\n",
      "Epoch 25/50\n",
      "915/915 [==============================] - 74s 81ms/step - loss: 0.0049 - acc: 0.9978\n",
      "Epoch 26/50\n",
      "915/915 [==============================] - 73s 80ms/step - loss: 0.0064 - acc: 0.9978\n",
      "Epoch 27/50\n",
      "915/915 [==============================] - 73s 80ms/step - loss: 0.0035 - acc: 0.9974\n",
      "Epoch 28/50\n",
      "915/915 [==============================] - 75s 82ms/step - loss: 0.0069 - acc: 0.9945\n",
      "Epoch 29/50\n",
      "915/915 [==============================] - 73s 80ms/step - loss: 0.0056 - acc: 0.9949\n",
      "Epoch 30/50\n",
      "915/915 [==============================] - 73s 80ms/step - loss: 0.0051 - acc: 0.9956\n",
      "Epoch 31/50\n",
      "915/915 [==============================] - 73s 80ms/step - loss: 0.0048 - acc: 0.9964\n",
      "Epoch 32/50\n",
      "915/915 [==============================] - 76s 83ms/step - loss: 0.0050 - acc: 0.9956\n",
      "Epoch 33/50\n",
      "915/915 [==============================] - 73s 79ms/step - loss: 0.0062 - acc: 0.9956\n",
      "Epoch 34/50\n",
      "915/915 [==============================] - 73s 80ms/step - loss: 0.0056 - acc: 0.9960\n",
      "Epoch 35/50\n",
      "915/915 [==============================] - 76s 83ms/step - loss: 0.0049 - acc: 0.9964\n",
      "Epoch 36/50\n",
      "915/915 [==============================] - 74s 80ms/step - loss: 0.0040 - acc: 0.9978\n",
      "Epoch 37/50\n",
      "915/915 [==============================] - 72s 79ms/step - loss: 0.0048 - acc: 0.9956\n",
      "Epoch 38/50\n",
      "915/915 [==============================] - 74s 81ms/step - loss: 0.0045 - acc: 0.9967\n",
      "Epoch 39/50\n",
      "915/915 [==============================] - 73s 80ms/step - loss: 0.0062 - acc: 0.9964\n",
      "Epoch 40/50\n",
      "915/915 [==============================] - 72s 79ms/step - loss: 0.0059 - acc: 0.9964\n",
      "Epoch 41/50\n",
      "915/915 [==============================] - 75s 82ms/step - loss: 0.0046 - acc: 0.9967\n",
      "Epoch 42/50\n",
      "915/915 [==============================] - 74s 80ms/step - loss: 0.0046 - acc: 0.9964\n",
      "Epoch 43/50\n",
      "915/915 [==============================] - 74s 81ms/step - loss: 0.0046 - acc: 0.9953\n",
      "Epoch 44/50\n",
      "915/915 [==============================] - 73s 79ms/step - loss: 0.0044 - acc: 0.9974\n",
      "Epoch 45/50\n",
      "915/915 [==============================] - 73s 79ms/step - loss: 0.0050 - acc: 0.9964\n",
      "Epoch 46/50\n",
      "915/915 [==============================] - 73s 80ms/step - loss: 0.0053 - acc: 0.9956\n",
      "Epoch 47/50\n",
      "915/915 [==============================] - 73s 80ms/step - loss: 0.0046 - acc: 0.9956\n",
      "Epoch 48/50\n",
      "915/915 [==============================] - 72s 79ms/step - loss: 0.0039 - acc: 0.9978\n",
      "Epoch 49/50\n",
      "915/915 [==============================] - 72s 79ms/step - loss: 0.0039 - acc: 0.9964\n",
      "Epoch 50/50\n",
      "915/915 [==============================] - 73s 80ms/step - loss: 0.0060 - acc: 0.9949\n"
     ]
    },
    {
     "data": {
      "text/plain": [
       "<keras.callbacks.History at 0x7fd1c0738630>"
      ]
     },
     "execution_count": 17,
     "metadata": {},
     "output_type": "execute_result"
    }
   ],
   "source": [
    "model.fit(trainImages, trainLabels, batch_size = 50, epochs = 50, verbose = 1)"
   ]
  },
  {
   "cell_type": "code",
   "execution_count": 18,
   "metadata": {},
   "outputs": [
    {
     "data": {
      "text/plain": [
       "<matplotlib.image.AxesImage at 0x7fd1ee1adac8>"
      ]
     },
     "execution_count": 18,
     "metadata": {},
     "output_type": "execute_result"
    }
   ],
   "source": [
    "def load_test_data():\n",
    "    test_data = []\n",
    "    for img in os.listdir(test_ktp):\n",
    "        label = label_img(img)\n",
    "        path = os.path.join(test_ktp, img)\n",
    "        if \"DS_Store\" not in path:\n",
    "            img = Image.open(path)\n",
    "            img = img.convert('L')\n",
    "            img = img.resize((IMG_SIZE, IMG_SIZE), Image.ANTIALIAS)\n",
    "            test_data.append([np.array(img), label])\n",
    "    shuffle(test_data)\n",
    "    return test_data\n",
    "\n",
    "\n",
    "test_data = load_test_data()    \n",
    "plt.imshow(test_data[10][0], cmap = 'gist_gray')"
   ]
  },
  {
   "cell_type": "code",
   "execution_count": 19,
   "metadata": {},
   "outputs": [
    {
     "name": "stdout",
     "output_type": "stream",
     "text": [
      "95.0724634917\n"
     ]
    }
   ],
   "source": [
    "testImages = np.array([i[0] for i in test_data]).reshape(-1, IMG_SIZE, IMG_SIZE, 1)\n",
    "testLabels = np.array([i[1] for i in test_data])\n",
    "\n",
    "loss, acc = model.evaluate(testImages, testLabels, verbose = 0)\n",
    "print(acc * 100)"
   ]
  },
  {
   "cell_type": "code",
   "execution_count": 20,
   "metadata": {
    "collapsed": true
   },
   "outputs": [],
   "source": [
    "predictions = model.predict(testImages)"
   ]
  },
  {
   "cell_type": "code",
   "execution_count": 21,
   "metadata": {},
   "outputs": [
    {
     "data": {
      "text/plain": [
       "array([[71,  5,  1],\n",
       "       [ 2, 66,  0],\n",
       "       [ 5,  1, 79]])"
      ]
     },
     "execution_count": 21,
     "metadata": {},
     "output_type": "execute_result"
    }
   ],
   "source": [
    "from sklearn.metrics import confusion_matrix\n",
    "image_pred = (predictions > 0.8)\n",
    "confusion_matrix(testLabels.argmax(axis=1), image_pred.argmax(axis=1))"
   ]
  },
  {
   "cell_type": "code",
   "execution_count": 22,
   "metadata": {},
   "outputs": [
    {
     "name": "stdout",
     "output_type": "stream",
     "text": [
      "Saved model to disk\n"
     ]
    }
   ],
   "source": [
    "# serialize model to JSON\n",
    "model_json = model.to_json()\n",
    "with open(\"ktp_model.json\", \"w\") as json_file:\n",
    "    json_file.write(model_json)\n",
    "# serialize weights to HDF5\n",
    "model.save_weights(\"ktp_model-weights.h5\")\n",
    "print(\"Saved model to disk\")\n",
    "model.save(\"ktp_model.h5\")"
   ]
  },
  {
   "cell_type": "code",
   "execution_count": null,
   "metadata": {
    "collapsed": true
   },
   "outputs": [],
   "source": []
  }
 ],
 "metadata": {
  "anaconda-cloud": {},
  "kernelspec": {
   "display_name": "Python [conda env:tf-gpu]",
   "language": "python",
   "name": "conda-env-tf-gpu-py"
  },
  "language_info": {
   "codemirror_mode": {
    "name": "ipython",
    "version": 3
   },
   "file_extension": ".py",
   "mimetype": "text/x-python",
   "name": "python",
   "nbconvert_exporter": "python",
   "pygments_lexer": "ipython3",
   "version": "3.5.4"
  }
 },
 "nbformat": 4,
 "nbformat_minor": 1
}
